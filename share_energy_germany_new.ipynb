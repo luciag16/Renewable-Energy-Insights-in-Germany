{
 "cells": [
  {
   "cell_type": "code",
   "execution_count": 7,
   "id": "0d179842",
   "metadata": {},
   "outputs": [],
   "source": [
    "import pandas as pd"
   ]
  },
  {
   "cell_type": "code",
   "execution_count": 8,
   "id": "b040482b",
   "metadata": {},
   "outputs": [],
   "source": [
    "# Load the cleaned Excel file\n",
    "file_path = 'D:/proyecto/renewable_energies_powerbi/cleaned_share_of_energy_germany.xlsx'\n",
    "share_energy_data = pd.read_excel(file_path)"
   ]
  },
  {
   "cell_type": "code",
   "execution_count": 9,
   "id": "554605ec",
   "metadata": {},
   "outputs": [
    {
     "name": "stdout",
     "output_type": "stream",
     "text": [
      "Current column names: Index(['TIME', '2004', '2005', '2006', '2007', '2008', '2009', '2010', '2011',\n",
      "       '2012', '2013', '2014', '2015', '2016', '2017', '2018', '2019', '2020',\n",
      "       '2022'],\n",
      "      dtype='object')\n"
     ]
    }
   ],
   "source": [
    "# Display current column names\n",
    "print(\"Current column names:\", share_energy_data.columns)"
   ]
  },
  {
   "cell_type": "code",
   "execution_count": 10,
   "id": "eff49cbc",
   "metadata": {},
   "outputs": [],
   "source": [
    "# Rename columns appropriately\n",
    "share_energy_data.columns = [\"Country/Area\", \"2004\", \"2005\", \"2006\", \"2007\", \"2008\", \"2009\", \"2010\", \"2011\", \"2012\", \"2013\", \"2014\", \"2015\", \"2016\", \"2017\", \"2018\", \"2019\", \"2020\", \"2022\"]"
   ]
  },
  {
   "cell_type": "code",
   "execution_count": 11,
   "id": "9eeaa91e",
   "metadata": {},
   "outputs": [],
   "source": [
    "# Reshape the data so that years are in a single column\n",
    "melted_data = pd.melt(share_energy_data, id_vars=[\"Country/Area\"], var_name=\"Year\", value_name=\"Renewable Energy Share\")"
   ]
  },
  {
   "cell_type": "code",
   "execution_count": 12,
   "id": "7b4968bf",
   "metadata": {},
   "outputs": [],
   "source": [
    "# Filter the dataset to include only data for Germany\n",
    "germany_data = melted_data[melted_data['Country/Area'].str.contains(\"Germany\", na=False)]"
   ]
  },
  {
   "cell_type": "code",
   "execution_count": 13,
   "id": "146781c1",
   "metadata": {},
   "outputs": [
    {
     "name": "stdout",
     "output_type": "stream",
     "text": [
      "   Country/Area  Year  Renewable Energy Share\n",
      "0       Germany  2004                   6.207\n",
      "1       Germany  2005                   7.167\n",
      "2       Germany  2006                   8.466\n",
      "3       Germany  2007                  10.039\n",
      "4       Germany  2008                  10.072\n",
      "5       Germany  2009                  10.851\n",
      "6       Germany  2010                  11.667\n",
      "7       Germany  2011                  12.470\n",
      "8       Germany  2012                  13.549\n",
      "9       Germany  2013                  13.757\n",
      "10      Germany  2014                  14.381\n",
      "11      Germany  2015                  14.901\n",
      "12      Germany  2016                  14.885\n",
      "13      Germany  2017                  15.472\n",
      "14      Germany  2018                  16.660\n",
      "15      Germany  2019                  17.266\n",
      "16      Germany  2020                  19.090\n",
      "17      Germany  2022                  20.796\n"
     ]
    }
   ],
   "source": [
    "# Display the first few rows to understand the structure\n",
    "print(germany_data.head(20))"
   ]
  },
  {
   "cell_type": "code",
   "execution_count": 14,
   "id": "9d086464",
   "metadata": {},
   "outputs": [],
   "source": [
    "# Save the cleaned data to a new Excel file\n",
    "cleaned_file_path = 'D:/proyecto/renewable_energies_powerbi/reshaped_share_of_energy_germany.xlsx'\n",
    "germany_data.to_excel(cleaned_file_path, index=False)"
   ]
  },
  {
   "cell_type": "code",
   "execution_count": null,
   "id": "842e85c7",
   "metadata": {},
   "outputs": [],
   "source": []
  }
 ],
 "metadata": {
  "kernelspec": {
   "display_name": "Python 3 (ipykernel)",
   "language": "python",
   "name": "python3"
  },
  "language_info": {
   "codemirror_mode": {
    "name": "ipython",
    "version": 3
   },
   "file_extension": ".py",
   "mimetype": "text/x-python",
   "name": "python",
   "nbconvert_exporter": "python",
   "pygments_lexer": "ipython3",
   "version": "3.11.4"
  }
 },
 "nbformat": 4,
 "nbformat_minor": 5
}
