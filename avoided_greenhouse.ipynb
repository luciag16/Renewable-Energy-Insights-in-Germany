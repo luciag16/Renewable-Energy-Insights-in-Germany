{
 "cells": [
  {
   "cell_type": "code",
   "execution_count": 21,
   "id": "23675e9f",
   "metadata": {},
   "outputs": [],
   "source": [
    "import pandas as pd"
   ]
  },
  {
   "cell_type": "code",
   "execution_count": 22,
   "id": "9c6350eb",
   "metadata": {},
   "outputs": [],
   "source": [
    "# Load the Excel file from the specific sheet and starting from the 13th row\n",
    "file_path = \"D:/proyecto/renewable_energies_powerbi/avoided_greenhourse_emissions.xlsx\"\n",
    "avoided_emissions = pd.read_excel(file_path, sheet_name='Daten', skiprows=12, usecols=\"B:F\")"
   ]
  },
  {
   "cell_type": "code",
   "execution_count": 23,
   "id": "088a39c3",
   "metadata": {},
   "outputs": [],
   "source": [
    "# Find the starting index for the year 2000\n",
    "start_index = avoided_emissions[avoided_emissions.iloc[:, 0].astype(str) == \"2000\"].index[0]\n",
    "avoided_emissions = avoided_emissions.loc[start_index:].reset_index(drop=True)"
   ]
  },
  {
   "cell_type": "code",
   "execution_count": 24,
   "id": "2dec614a",
   "metadata": {},
   "outputs": [],
   "source": [
    "# Remove rows with any NaN values\n",
    "avoided_emissions = avoided_emissions.dropna()"
   ]
  },
  {
   "cell_type": "code",
   "execution_count": 25,
   "id": "daee9697",
   "metadata": {},
   "outputs": [
    {
     "name": "stdout",
     "output_type": "stream",
     "text": [
      "   Unnamed: 1    Electricity          Heat Transportation*          Total\n",
      "0        2000   33902.114783  12575.055955      537.218864   47014.389602\n",
      "1        2001   36774.989907  14106.994534      745.585841   51627.570282\n",
      "2        2002   43265.832017  13867.830982     1150.661394   58284.324394\n",
      "3        2003   43130.037384  19721.162775     1653.539503   64504.739662\n",
      "4        2004   52918.998389  22244.491875     2155.490112   77318.980377\n",
      "5        2005   55974.253469  20467.188638     4246.966369   80688.408477\n",
      "6        2006   55603.131933  22511.344437     7684.574722   85799.051093\n",
      "7        2007   65823.027972  25070.826735     8727.891412   99621.746119\n",
      "8        2008   64696.526938  27302.761134     6913.877729   98913.165802\n",
      "9        2009   67296.359134  27953.626173     6116.957752  101366.943059\n",
      "10       2010   73463.661928  32959.940963     6663.069756  113086.672647\n",
      "11       2011   90688.534756  32065.676753     6540.081011   129294.29252\n",
      "12       2012   91767.013048  34289.884721     7077.901409  133134.799178\n",
      "13       2013   94600.859367  35074.261618     6477.779572  136152.900557\n",
      "14       2014  111746.518539  32743.944193     6747.131978  151237.594709\n",
      "15       2015  128031.791866  34284.369145     6359.209411  168675.370422\n",
      "16       2016  127908.020759  34588.971946     6972.250246  169469.242951\n",
      "17       2017  140818.285811  34750.559191     7396.903165  182965.748167\n",
      "18       2018  147326.685797  36993.878335     7728.906154  192049.470286\n",
      "19       2019  174869.854212   37810.62706     7511.021413  220191.502684\n"
     ]
    }
   ],
   "source": [
    "# Display the first few rows to understand the structure\n",
    "print(avoided_emissions.head(20))"
   ]
  },
  {
   "cell_type": "code",
   "execution_count": 27,
   "id": "8c155be5",
   "metadata": {},
   "outputs": [],
   "source": [
    "# Save the cleaned data to a new Excel file\n",
    "cleaned_file_path = 'D:/proyecto/renewable_energies_powerbi/cleaned_avoided_greenhouse_emissions.xlsx'\n",
    "avoided_emissions.to_excel(cleaned_file_path, index=False)"
   ]
  },
  {
   "cell_type": "code",
   "execution_count": null,
   "id": "fb0f1ad8",
   "metadata": {},
   "outputs": [],
   "source": []
  }
 ],
 "metadata": {
  "kernelspec": {
   "display_name": "Python 3 (ipykernel)",
   "language": "python",
   "name": "python3"
  },
  "language_info": {
   "codemirror_mode": {
    "name": "ipython",
    "version": 3
   },
   "file_extension": ".py",
   "mimetype": "text/x-python",
   "name": "python",
   "nbconvert_exporter": "python",
   "pygments_lexer": "ipython3",
   "version": "3.11.4"
  }
 },
 "nbformat": 4,
 "nbformat_minor": 5
}
