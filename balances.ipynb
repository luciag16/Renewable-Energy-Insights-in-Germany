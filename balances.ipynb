{
 "cells": [
  {
   "cell_type": "code",
   "execution_count": 1,
   "id": "b133250c",
   "metadata": {},
   "outputs": [],
   "source": [
    "import pandas as pd"
   ]
  },
  {
   "cell_type": "code",
   "execution_count": 2,
   "id": "707e749c",
   "metadata": {},
   "outputs": [],
   "source": [
    "# Load the Excel file\n",
    "file_path = \"D:/proyecto/renewable_energies_powerbi/data_balances.xlsx\"\n",
    "irena_data = pd.read_excel(file_path)"
   ]
  },
  {
   "cell_type": "code",
   "execution_count": 4,
   "id": "bb512aa1",
   "metadata": {},
   "outputs": [],
   "source": [
    "# Filter the dataset to include only data for Germany\n",
    "germany_data = irena_data[irena_data['Country/area'].str.contains(\"Germany\", na=False)]"
   ]
  },
  {
   "cell_type": "code",
   "execution_count": 5,
   "id": "4004fc51",
   "metadata": {},
   "outputs": [],
   "source": [
    "# Remove rows with any NaN values\n",
    "germany_data = germany_data.dropna()"
   ]
  },
  {
   "cell_type": "code",
   "execution_count": 6,
   "id": "e66479ac",
   "metadata": {},
   "outputs": [
    {
     "name": "stdout",
     "output_type": "stream",
     "text": [
      "     Country/area Technology/source  Year              Main category  \\\n",
      "4804      Germany        Hydropower  2021             Primary Energy   \n",
      "4805      Germany        Hydropower  2021             Primary Energy   \n",
      "4806      Germany        Hydropower  2021      Transformation/Losses   \n",
      "4807      Germany        Hydropower  2021  Consumption(Elect.& Heat)   \n",
      "4808      Germany        Hydropower  2021  Consumption(Elect.& Heat)   \n",
      "4809      Germany        Hydropower  2021   Gross Electricity & Heat   \n",
      "4810      Germany        Hydropower  2020             Primary Energy   \n",
      "4811      Germany        Hydropower  2020             Primary Energy   \n",
      "4812      Germany        Hydropower  2020      Transformation/Losses   \n",
      "4813      Germany        Hydropower  2020  Consumption(Elect.& Heat)   \n",
      "4814      Germany        Hydropower  2020  Consumption(Elect.& Heat)   \n",
      "4815      Germany        Hydropower  2020   Gross Electricity & Heat   \n",
      "4816      Germany              Wind  2021             Primary Energy   \n",
      "4817      Germany              Wind  2021             Primary Energy   \n",
      "4818      Germany              Wind  2021      Transformation/Losses   \n",
      "4819      Germany              Wind  2021  Consumption(Elect.& Heat)   \n",
      "4820      Germany              Wind  2021  Consumption(Elect.& Heat)   \n",
      "4821      Germany              Wind  2021   Gross Electricity & Heat   \n",
      "4822      Germany              Wind  2020             Primary Energy   \n",
      "4823      Germany              Wind  2020             Primary Energy   \n",
      "\n",
      "     Sub Category         Value Unit  \n",
      "4804   Production   70768.80000   TJ  \n",
      "4805       Supply   70768.80000   TJ  \n",
      "4806  Electricity  -70768.80000   TJ  \n",
      "4807        Total   59531.93738   TJ  \n",
      "4808  Electricity   59531.93738   TJ  \n",
      "4809  Electricity   19658.00000  GWh  \n",
      "4810   Production   67395.60000   TJ  \n",
      "4811       Supply   67395.60000   TJ  \n",
      "4812  Electricity  -67395.60000   TJ  \n",
      "4813        Total   56499.56768   TJ  \n",
      "4814  Electricity   56499.56768   TJ  \n",
      "4815  Electricity   18721.00000  GWh  \n",
      "4816   Production  412729.20000   TJ  \n",
      "4817       Supply  412729.20000   TJ  \n",
      "4818  Electricity -412729.20000   TJ  \n",
      "4819        Total  347194.93460   TJ  \n",
      "4820  Electricity  347194.93460   TJ  \n",
      "4821  Electricity  114647.00000  GWh  \n",
      "4822   Production  475567.20000   TJ  \n",
      "4823       Supply  475567.20000   TJ  \n"
     ]
    }
   ],
   "source": [
    "# Display the first few rows to understand the structure\n",
    "print(germany_data.head(20))"
   ]
  },
  {
   "cell_type": "code",
   "execution_count": 7,
   "id": "faaf9944",
   "metadata": {},
   "outputs": [],
   "source": [
    "# Save the cleaned data to a new Excel file\n",
    "cleaned_file_path = 'D:/proyecto/renewable_energies_powerbi/cleaned_irena_data_germany.xlsx'\n",
    "germany_data.to_excel(cleaned_file_path, index=False)"
   ]
  },
  {
   "cell_type": "code",
   "execution_count": 8,
   "id": "0c4e3500",
   "metadata": {},
   "outputs": [
    {
     "name": "stdout",
     "output_type": "stream",
     "text": [
      "Cleaned data saved successfully.\n"
     ]
    }
   ],
   "source": [
    "print(\"Cleaned data saved successfully.\")"
   ]
  },
  {
   "cell_type": "code",
   "execution_count": null,
   "id": "d9bf28e6",
   "metadata": {},
   "outputs": [],
   "source": []
  }
 ],
 "metadata": {
  "kernelspec": {
   "display_name": "Python 3 (ipykernel)",
   "language": "python",
   "name": "python3"
  },
  "language_info": {
   "codemirror_mode": {
    "name": "ipython",
    "version": 3
   },
   "file_extension": ".py",
   "mimetype": "text/x-python",
   "name": "python",
   "nbconvert_exporter": "python",
   "pygments_lexer": "ipython3",
   "version": "3.11.4"
  }
 },
 "nbformat": 4,
 "nbformat_minor": 5
}
