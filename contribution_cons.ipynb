{
 "cells": [
  {
   "cell_type": "code",
   "execution_count": 1,
   "id": "4ea78a06",
   "metadata": {},
   "outputs": [],
   "source": [
    "import pandas as pd"
   ]
  },
  {
   "cell_type": "code",
   "execution_count": 2,
   "id": "22f27734",
   "metadata": {},
   "outputs": [],
   "source": [
    "# Load the Excel file \n",
    "file_path = \"D:/proyecto/renewable_energies_powerbi/Contribution_of_renewable_fuels.xlsx\"\n",
    "contribution_renewable_fuels = pd.read_excel(file_path, sheet_name='Sheet 1', skiprows=8)"
   ]
  },
  {
   "cell_type": "code",
   "execution_count": 3,
   "id": "d5a0ab54",
   "metadata": {},
   "outputs": [],
   "source": [
    "# Remove the 10th row that starts with \"GEO (labels)\"\n",
    "contribution_renewable_fuels = contribution_renewable_fuels.drop(contribution_renewable_fuels[contribution_renewable_fuels.iloc[:, 0] == \"GEO (labels)\"].index)"
   ]
  },
  {
   "cell_type": "code",
   "execution_count": 4,
   "id": "41b2759b",
   "metadata": {},
   "outputs": [],
   "source": [
    "# Filter the dataset to include only data for Germany\n",
    "germany_data = contribution_renewable_fuels[contribution_renewable_fuels.iloc[:, 0].str.contains(\"Germany\", na=False)]"
   ]
  },
  {
   "cell_type": "code",
   "execution_count": 5,
   "id": "143a83ed",
   "metadata": {},
   "outputs": [],
   "source": [
    "# Remove rows with any NaN values\n",
    "germany_data = germany_data.dropna()"
   ]
  },
  {
   "cell_type": "code",
   "execution_count": 6,
   "id": "3d5e26cf",
   "metadata": {},
   "outputs": [
    {
     "name": "stdout",
     "output_type": "stream",
     "text": [
      "  SIEC (Labels) Renewables and biofuels  \\\n",
      "7       Germany               41268.719   \n",
      "\n",
      "   Renewables and biofuels - statistical transfers, joint projects and joint support schemes - added amount  \\\n",
      "7                                               4.33                                                          \n",
      "\n",
      "   Renewables and biofuels - statistical transfers, joint projects and joint support schemes - deduced amount  \\\n",
      "7                                                0.0                                                            \n",
      "\n",
      "      Hydro  Geothermal       Wind  Wind on shore  Wind off shore  \\\n",
      "7  1725.982      161.66  10941.842       8645.287        2296.555   \n",
      "\n",
      "   Solar thermal  ...  Geothermal heat pumps  \\\n",
      "7         726.45  ...                516.116   \n",
      "\n",
      "   Aerothermal and hydrothermal heat pumps  Renewable cooling  \\\n",
      "7                                 1018.283                0.0   \n",
      "\n",
      "   Sustainable primary solid biofuels  Charcoal  Sustainable biofuels  \\\n",
      "7                           12336.639   113.117              2961.356   \n",
      "\n",
      "   Sustainable bioliquids  Sustainable biogases  Sustainable blended biogases  \\\n",
      "7                  236.45               4596.67                       627.458   \n",
      "\n",
      "   Renewable municipal waste  \n",
      "7                   1937.695  \n",
      "\n",
      "[1 rows x 23 columns]\n"
     ]
    }
   ],
   "source": [
    "# Display the first few rows to understand the structure\n",
    "print(germany_data.head(20))"
   ]
  },
  {
   "cell_type": "code",
   "execution_count": 7,
   "id": "26ce26ce",
   "metadata": {},
   "outputs": [],
   "source": [
    "# Save the cleaned data to a new Excel file\n",
    "cleaned_file_path = 'D:/proyecto/renewable_energies_powerbi/cleaned_contribution_renewable_fuels_germany.xlsx'\n",
    "germany_data.to_excel(cleaned_file_path, index=False)"
   ]
  },
  {
   "cell_type": "code",
   "execution_count": null,
   "id": "b076c5aa",
   "metadata": {},
   "outputs": [],
   "source": []
  }
 ],
 "metadata": {
  "kernelspec": {
   "display_name": "Python 3 (ipykernel)",
   "language": "python",
   "name": "python3"
  },
  "language_info": {
   "codemirror_mode": {
    "name": "ipython",
    "version": 3
   },
   "file_extension": ".py",
   "mimetype": "text/x-python",
   "name": "python",
   "nbconvert_exporter": "python",
   "pygments_lexer": "ipython3",
   "version": "3.11.4"
  }
 },
 "nbformat": 4,
 "nbformat_minor": 5
}
